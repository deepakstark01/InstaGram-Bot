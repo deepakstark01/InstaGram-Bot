{
 "cells": [
  {
   "cell_type": "code",
   "execution_count": 1,
   "id": "e8386a54",
   "metadata": {},
   "outputs": [],
   "source": [
    "import sys\n",
    "import requests\n",
    "import xlsxwriter\n",
    "import time\n",
    "import wget\n",
    "import random\n",
    "import selenium\n",
    "from selenium import webdriver\n",
    "from pynput.keyboard import Controller, Key\n",
    "from selenium.webdriver.common.keys import Keys\n",
    "import openpyxl\n",
    "from selenium.webdriver.common.by import By\n",
    "from selenium.webdriver.support.ui import WebDriverWait\n",
    "from selenium.webdriver.support import expected_conditions as EC\n",
    "from bs4 import BeautifulSoup\n"
   ]
  },
  {
   "cell_type": "code",
   "execution_count": 2,
   "id": "14206744",
   "metadata": {
    "scrolled": true
   },
   "outputs": [],
   "source": [
    "chrome_options = webdriver.ChromeOptions()\n",
    "chrome_options.add_argument(r'--user-data-dir=C:\\Users\\Deepak\\AppData\\Local\\Google\\Chrome\\User Data')\n",
    "driver = webdriver.Chrome(executable_path=\"C:\\chromedriver.exe\", options=chrome_options)\n"
   ]
  },
  {
   "cell_type": "code",
   "execution_count": 3,
   "id": "d7ddff7e",
   "metadata": {},
   "outputs": [],
   "source": [
    "url=\"https://www.instagram.com/\"\n",
    "driver.get(url)\n",
    "import wget"
   ]
  },
  {
   "cell_type": "code",
   "execution_count": 8,
   "id": "43ce06a7",
   "metadata": {},
   "outputs": [],
   "source": [
    "countFollwer = WebDriverWait(driver, 10).until(\n",
    "        EC.presence_of_element_located((By.XPATH, \".//*[contains(text(), 'followers')]/span\"))).text\n",
    "countFollowing = WebDriverWait(driver, 10).until(\n",
    "    EC.presence_of_element_located((By.XPATH, \".//*[contains(text(), 'following')]/span\"))).text\n",
    "# numFollowing = convert_str_to_number(countFollowing)"
   ]
  },
  {
   "cell_type": "code",
   "execution_count": 9,
   "id": "7234546e",
   "metadata": {},
   "outputs": [
    {
     "name": "stdout",
     "output_type": "stream",
     "text": [
      "469\n",
      "39\n"
     ]
    }
   ],
   "source": [
    "countFollwer=countFollwer.replace(\",\",\"\")\n",
    "countFollowing=countFollowing.replace(\",\",\"\")\n",
    "\n",
    "num=convert_str_to_number(countFollowing)\n",
    "print(num)\n",
    "num=convert_str_to_number(countFollwer)\n",
    "print(num)"
   ]
  },
  {
   "cell_type": "code",
   "execution_count": 16,
   "id": "8fdae808",
   "metadata": {},
   "outputs": [
    {
     "name": "stdout",
     "output_type": "stream",
     "text": [
      "start\n",
      "This account is private\n"
     ]
    }
   ],
   "source": [
    "userLink = \"https://www.instagram.com/\"+\"nessav370/\"\n",
    "driver.get(userLink)\n",
    "time.sleep(random.randrange(4, 8))\n",
    "privateCheck=0\n",
    "try:\n",
    "    print(\"start\")\n",
    "    html2 = driver.page_source\n",
    "    soup2 = BeautifulSoup(html2, \"html.parser\") \n",
    "    privateOrNot = soup2.find('h2', {\"class\": \"_aa_u\"}).text\n",
    "    print(privateOrNot)\n",
    "    if (str(privateOrNot) == 'This account is private'):\n",
    "        print(\"account is private\")\n",
    "        if (privateCheck):\n",
    "            print(\"pravte included\")\n",
    "            print(followerData.text)\n",
    "            print(numFollower)\n",
    "            print(numFollowing)\n",
    "            rowData += 1\n",
    "            print(\"row\", rowData - 1)\n",
    "        else:\n",
    "            print(\"Skipping account is private\")\n",
    "            \n",
    "except:\n",
    "    countFollwer = WebDriverWait(driver, 10).until(\n",
    "        EC.presence_of_element_located((By.XPATH, \".//*[contains(text(), 'followers')]/span\"))).text\n",
    "\n",
    "    countFollowing = WebDriverWait(driver, 10).until(\n",
    "        EC.presence_of_element_located((By.XPATH, \".//*[contains(text(), 'following')]/span\"))).text\n",
    "    countFollwer = countFollwer.replace(\",\", \"\")\n",
    "    countFollowing = countFollowing.replace(\",\", \"\")\n",
    "    numFollowing = convert_str_to_number(countFollowing)\n",
    "    numFollower = convert_str_to_number(countFollwer)\n",
    "\n",
    "    print(numFollowing)\n",
    "    print(numFollower)"
   ]
  },
  {
   "cell_type": "code",
   "execution_count": 7,
   "id": "6b939717",
   "metadata": {},
   "outputs": [],
   "source": [
    "def convert_str_to_number(x):\n",
    "    total_stars = 0\n",
    "    num_map = {'K':1000, 'M':1000000, 'B':1000000000}\n",
    "    if x.isdigit():\n",
    "        total_stars = int(x)\n",
    "    else:\n",
    "        x=x.replace(\",\",\"\")\n",
    "        if len(x) > 1:\n",
    "            total_stars = float(x[:-1]) * num_map.get(x[-1].upper(), 1)\n",
    "    return int(total_stars)"
   ]
  },
  {
   "cell_type": "code",
   "execution_count": 82,
   "id": "fb86363e",
   "metadata": {},
   "outputs": [],
   "source": [
    "def scrapePostProfile(comptitorIDs):\n",
    "    privateCheck=0\n",
    "    maxFollower = 15000\n",
    "    minFollwer = 10\n",
    "    minFollowing = 5\n",
    "    maxFollwing = 2000\n",
    "    WebDriverWait(driver, 10).until(\n",
    "        EC.presence_of_element_located((By.XPATH, \"//body//div//div[contains(@class,'_aa-i')]//div//div//div[1]//div[1]//a[1]\"))).click()\n",
    "    time.sleep(3)\n",
    "    html = driver.page_source\n",
    "    soup1 = BeautifulSoup(html, \"html.parser\")\n",
    "    followeDataComment = soup1.find_all('a',{\"class\": \"oajrlxb2 g5ia77u1 qu0x051f esr5mh6w e9989ue4 r7d6kgcz rq0escxv nhd2j8a9 nc684nl6 p7hjln8o kvgmc6g5 cxmmr5t8 oygrvhab hcukyx3x jb3vyjys rz4wbd8a qt6c0cv9 a8nywdso i1ao9s8h esuyzwwr f1sip0of lzcic4wl _acan _acao _acat _acaw _a6hd\"})\n",
    "    followeComment = list(set(followeDataComment))\n",
    "    #     WebDriverWait(driver, 10).until(EC.presence_of_element_located((By.XPATH, \"//body//div[contains(@role,'presentation')]//section//div//div//div//div[1]\"))).click()\n",
    "    #     time.sleep(3)\n",
    "    #     followeDataLike = soup1.find_all('a',{\"class\":\"notranslate\"})\n",
    "\n",
    "    for followerData in followeComment:\n",
    "        global rowData\n",
    "        if (comptitorIDs != followerData.text):\n",
    "           \n",
    "            userLink = \"https://www.instagram.com/\" + str(followerData.text)+\"/\"\n",
    "            driver.get(userLink)\n",
    "            time.sleep(random.randrange(1, 3))\n",
    "            html2 = driver.page_source\n",
    "            soup2 = BeautifulSoup(html2, \"html.parser\")\n",
    "            try:\n",
    "                privateOrNot = soup2.find('h2', {\"class\": \"_aa_u\"}).text\n",
    "                print(privateOrNot)\n",
    "                if (str(privateOrNot) == 'This Account is Private'):\n",
    "                    print(\"account is private\")\n",
    "                    if(privateCheck):\n",
    "                        outSheet.write(rowData, 0, followerData.text)\n",
    "                        outSheet.write(rowData, 1, numFollower)\n",
    "                        outSheet.write(rowData, 2, numFollowing)\n",
    "                        rowData += 1\n",
    "                        print(\"row\", rowData - 1)\n",
    "                    else:\n",
    "                        print(\"Skipping account is private\")\n",
    "            except:\n",
    "                    \n",
    "                html = driver.page_source\n",
    "                soup2 = BeautifulSoup(html, \"html.parser\")\n",
    "                ProfileImage =soup2.find('img',{'class':'_'})[\"src\"]\n",
    "                print(ProfileImage)\n",
    "                save_as = (str(rowData) + '.jpg')\n",
    "#                 wget.download(ProfileImage, save_as)\n",
    "                countFollwer = WebDriverWait(driver, 10).until(\n",
    "                    EC.presence_of_element_located((By.XPATH, \".//*[contains(text(), 'followers')]/span\"))).text\n",
    "                countFollowing = WebDriverWait(driver, 10).until(\n",
    "                    EC.presence_of_element_located((By.XPATH, \".//*[contains(text(), 'following')]/span\"))).text\n",
    "                numFollowing = convert_str_to_number(countFollowing)\n",
    "                numFollower = convert_str_to_number(countFollwer)\n",
    "                if ((minFollowing <= numFollowing <= maxFollwing) and (minFollwer <= numFollower <= maxFollower)):\n",
    "                    outSheet.write(rowData, 0, followerData.text)\n",
    "                    outSheet.write(rowData, 1, numFollower)\n",
    "                    outSheet.write(rowData, 2, numFollowing)\n",
    "                    rowData += 1\n",
    "                    print(\"row\", rowData - 1)\n",
    "                    \n",
    "\n",
    "        time.sleep(3)"
   ]
  },
  {
   "cell_type": "code",
   "execution_count": 130,
   "id": "cc3b006c",
   "metadata": {},
   "outputs": [],
   "source": [
    "html = driver.page_source\n",
    "soup2 = BeautifulSoup(html, \"html.parser\")\n",
    "# followeDataLike = soup2.find('span',{\"class\":\"g47SY\"})\n",
    "countFollwer = WebDriverWait(driver, 10).until(EC.presence_of_element_located((By.XPATH, \"/html/body/div[1]/div/div/section/main/div/header/section/ul/li[2]/a/div/span\"))).text\n",
    "countFollowing = WebDriverWait(driver, 10).until(EC.presence_of_element_located((By.XPATH, \"/html/body/div[1]/div/div/section/main/div/header/section/ul/li[3]/a/div/span\"))).text\n",
    "def convert_str_to_number(x):\n",
    "    total_stars = 0\n",
    "    num_map = {'K':1000, 'M':1000000, 'B':1000000000}\n",
    "    if x.isdigit():\n",
    "        total_stars = int(x)\n",
    "    else:\n",
    "        if len(x) > 1:\n",
    "            total_stars = float(x[:-1]) * num_map.get(x[-1].upper(), 1)\n",
    "    return int(total_stars)\n",
    "\n",
    "\n",
    "\n",
    "    "
   ]
  },
  {
   "cell_type": "code",
   "execution_count": 167,
   "id": "8e79d126",
   "metadata": {
    "scrolled": true
   },
   "outputs": [],
   "source": [
    "# driver.switch_to_active_element()\n",
    "# userdata = driver.find_elements_by_class_name(\"_1XyCr  \")\n",
    "# alldiv = user.find_elements_by_tag_name(\"li\")\n",
    "# for i in userdata:\n",
    "#     driver.execute_script(\"arguments[0].scrollTop = arguments[0].scrollHeight\",userdata)\n",
    "#     us = i.find_element_by_tag_name(\"a\").get_attribute(\"href\")\n",
    "#     print(us)\n",
    "html = driver.page_source\n",
    "soup2 = BeautifulSoup(html, \"html.parser\")\n",
    "userdata=soup2.find_all('span',{\"class\":\"Jv7Aj mArmR MqpiF\"})\n"
   ]
  },
  {
   "cell_type": "code",
   "execution_count": 169,
   "id": "95b22b91",
   "metadata": {},
   "outputs": [
    {
     "name": "stdout",
     "output_type": "stream",
     "text": [
      "chrisevans\n",
      "chrisevans\n",
      "jamiejchung\n",
      "agbofilms\n",
      "octaviaspencer\n",
      "aishwaryakuzhiyil\n",
      "vaaleria_mp\n",
      "francisdominiic\n",
      "bboywicket\n",
      "lukefranchina\n",
      "hayleylugosi\n",
      "niyaxfunko\n",
      "brendynhatfield\n",
      "lanie524\n",
      "endorspeaches\n",
      "esmeralda_muniz25\n",
      "killians.magical.life\n",
      "mariaberlioz\n",
      "theunicornandme6\n",
      "capitancevans\n",
      "teamcevans\n",
      "rogvrs\n",
      "susanpenanolazco\n",
      "eileenswitzer\n",
      "_mateuslac_\n",
      "dollyyliuu\n",
      "thatchickwiththehat\n",
      "lorenafng\n",
      "reidyofreid\n",
      "a.ligia.maria\n",
      "fais_hernanda\n",
      "emma.hall.22\n",
      "norely_vargas3\n"
     ]
    }
   ],
   "source": [
    "for i in userdata:\n",
    "    print(i.text)"
   ]
  },
  {
   "cell_type": "code",
   "execution_count": 60,
   "id": "9341e1ae",
   "metadata": {},
   "outputs": [],
   "source": [
    "# get all data in sheet\n",
    "file = \"instaDataFollower.xlsx\"\n",
    "wb_obj = openpyxl.load_workbook(file)\n",
    "sheet_obj = wb_obj.active\n",
    "m_row = sheet_obj.max_row"
   ]
  },
  {
   "cell_type": "code",
   "execution_count": 83,
   "id": "aea1e241",
   "metadata": {
    "scrolled": false
   },
   "outputs": [
    {
     "name": "stdout",
     "output_type": "stream",
     "text": [
      "2:https://www.instagram.com/chrisevans\n",
      "chrisevans\n"
     ]
    },
    {
     "ename": "TypeError",
     "evalue": "'NoneType' object is not subscriptable",
     "output_type": "error",
     "traceback": [
      "\u001b[1;31m---------------------------------------------------------------------------\u001b[0m",
      "\u001b[1;31mAttributeError\u001b[0m                            Traceback (most recent call last)",
      "\u001b[1;32m~\\AppData\\Local\\Temp/ipykernel_13692/595648206.py\u001b[0m in \u001b[0;36mscrapePostProfile\u001b[1;34m(comptitorIDs)\u001b[0m\n\u001b[0;32m     27\u001b[0m             \u001b[1;32mtry\u001b[0m\u001b[1;33m:\u001b[0m\u001b[1;33m\u001b[0m\u001b[1;33m\u001b[0m\u001b[0m\n\u001b[1;32m---> 28\u001b[1;33m                 \u001b[0mprivateOrNot\u001b[0m \u001b[1;33m=\u001b[0m \u001b[0msoup2\u001b[0m\u001b[1;33m.\u001b[0m\u001b[0mfind\u001b[0m\u001b[1;33m(\u001b[0m\u001b[1;34m'span'\u001b[0m\u001b[1;33m,\u001b[0m \u001b[1;33m{\u001b[0m\u001b[1;34m\"class\"\u001b[0m\u001b[1;33m:\u001b[0m \u001b[1;34m\"_aa8h\"\u001b[0m\u001b[1;33m}\u001b[0m\u001b[1;33m)\u001b[0m\u001b[1;33m.\u001b[0m\u001b[0mtext\u001b[0m\u001b[1;33m\u001b[0m\u001b[1;33m\u001b[0m\u001b[0m\n\u001b[0m\u001b[0;32m     29\u001b[0m                 \u001b[0mprint\u001b[0m\u001b[1;33m(\u001b[0m\u001b[0mprivateOrNot\u001b[0m\u001b[1;33m)\u001b[0m\u001b[1;33m\u001b[0m\u001b[1;33m\u001b[0m\u001b[0m\n",
      "\u001b[1;31mAttributeError\u001b[0m: 'NoneType' object has no attribute 'text'",
      "\nDuring handling of the above exception, another exception occurred:\n",
      "\u001b[1;31mTypeError\u001b[0m                                 Traceback (most recent call last)",
      "\u001b[1;32m~\\AppData\\Local\\Temp/ipykernel_13692/506319753.py\u001b[0m in \u001b[0;36m<module>\u001b[1;34m\u001b[0m\n\u001b[0;32m     16\u001b[0m         EC.presence_of_element_located((By.XPATH, \"*//h2[@class=class=_7UhW9]\"))).text\n\u001b[0;32m     17\u001b[0m     \u001b[0mprint\u001b[0m\u001b[1;33m(\u001b[0m\u001b[0mprofiles\u001b[0m\u001b[1;33m)\u001b[0m\u001b[1;33m\u001b[0m\u001b[1;33m\u001b[0m\u001b[0m\n\u001b[1;32m---> 18\u001b[1;33m     \u001b[0mscrapePostProfile\u001b[0m\u001b[1;33m(\u001b[0m\u001b[0mInsta_Id\u001b[0m\u001b[1;33m)\u001b[0m\u001b[1;33m\u001b[0m\u001b[1;33m\u001b[0m\u001b[0m\n\u001b[0m\u001b[0;32m     19\u001b[0m     \u001b[1;32mif\u001b[0m \u001b[1;33m(\u001b[0m\u001b[0mrowData\u001b[0m \u001b[1;33m==\u001b[0m\u001b[1;36m10\u001b[0m\u001b[1;33m)\u001b[0m\u001b[1;33m:\u001b[0m\u001b[1;33m\u001b[0m\u001b[1;33m\u001b[0m\u001b[0m\n\u001b[0;32m     20\u001b[0m         \u001b[0mprint\u001b[0m\u001b[1;33m(\u001b[0m\u001b[1;34m\"done Scrapping!!!!\"\u001b[0m\u001b[1;33m)\u001b[0m\u001b[1;33m\u001b[0m\u001b[1;33m\u001b[0m\u001b[0m\n",
      "\u001b[1;32m~\\AppData\\Local\\Temp/ipykernel_13692/595648206.py\u001b[0m in \u001b[0;36mscrapePostProfile\u001b[1;34m(comptitorIDs)\u001b[0m\n\u001b[0;32m     42\u001b[0m                 \u001b[0mhtml\u001b[0m \u001b[1;33m=\u001b[0m \u001b[0mdriver\u001b[0m\u001b[1;33m.\u001b[0m\u001b[0mpage_source\u001b[0m\u001b[1;33m\u001b[0m\u001b[1;33m\u001b[0m\u001b[0m\n\u001b[0;32m     43\u001b[0m                 \u001b[0msoup2\u001b[0m \u001b[1;33m=\u001b[0m \u001b[0mBeautifulSoup\u001b[0m\u001b[1;33m(\u001b[0m\u001b[0mhtml\u001b[0m\u001b[1;33m,\u001b[0m \u001b[1;34m\"html.parser\"\u001b[0m\u001b[1;33m)\u001b[0m\u001b[1;33m\u001b[0m\u001b[1;33m\u001b[0m\u001b[0m\n\u001b[1;32m---> 44\u001b[1;33m                 \u001b[0mProfileImage\u001b[0m \u001b[1;33m=\u001b[0m\u001b[0msoup2\u001b[0m\u001b[1;33m.\u001b[0m\u001b[0mfind\u001b[0m\u001b[1;33m(\u001b[0m\u001b[1;34m'img'\u001b[0m\u001b[1;33m,\u001b[0m\u001b[1;33m{\u001b[0m\u001b[1;34m'alt'\u001b[0m\u001b[1;33m:\u001b[0m\u001b[1;34m'Profile photo'\u001b[0m\u001b[1;33m}\u001b[0m\u001b[1;33m)\u001b[0m\u001b[1;33m[\u001b[0m\u001b[1;34m\"src\"\u001b[0m\u001b[1;33m]\u001b[0m\u001b[1;33m\u001b[0m\u001b[1;33m\u001b[0m\u001b[0m\n\u001b[0m\u001b[0;32m     45\u001b[0m                 \u001b[0mprint\u001b[0m\u001b[1;33m(\u001b[0m\u001b[0mProfileImage\u001b[0m\u001b[1;33m)\u001b[0m\u001b[1;33m\u001b[0m\u001b[1;33m\u001b[0m\u001b[0m\n\u001b[0;32m     46\u001b[0m                 \u001b[0msave_as\u001b[0m \u001b[1;33m=\u001b[0m \u001b[1;33m(\u001b[0m\u001b[0mstr\u001b[0m\u001b[1;33m(\u001b[0m\u001b[0mrowData\u001b[0m\u001b[1;33m)\u001b[0m \u001b[1;33m+\u001b[0m \u001b[1;34m'.jpg'\u001b[0m\u001b[1;33m)\u001b[0m\u001b[1;33m\u001b[0m\u001b[1;33m\u001b[0m\u001b[0m\n",
      "\u001b[1;31mTypeError\u001b[0m: 'NoneType' object is not subscriptable"
     ]
    }
   ],
   "source": [
    "global outWorkbook\n",
    "outWorkbook = xlsxwriter.Workbook(\"ScrapedProfile.xlsx\")\n",
    "outSheet = outWorkbook.add_worksheet()\n",
    "outSheet.write(\"A1\", \"UserIds\")\n",
    "outSheet.write(\"B1\", \"Follower\")\n",
    "outSheet.write(\"C1\", \"Following\")\n",
    "global rowData\n",
    "rowData=1\n",
    "for i in range(2, m_row + 1):\n",
    "    cell_obj = sheet_obj.cell(row=i, column=1)\n",
    "    Insta_Id = cell_obj.value\n",
    "    Insta_Id_Urls = \"https://www.instagram.com/\"+Insta_Id\n",
    "    print(str(i) + \":\" + Insta_Id_Urls)\n",
    "    driver.get(Insta_Id_Urls)\n",
    "    profiles = WebDriverWait(driver, 10).until(\n",
    "        EC.presence_of_element_located((By.XPATH, \"*//h2[@class=class=_7UhW9]\"))).text\n",
    "    print(profiles)\n",
    "    scrapePostProfile(Insta_Id)\n",
    "    if (rowData ==10):\n",
    "        print(\"done Scrapping!!!!\")\n",
    "        break"
   ]
  },
  {
   "cell_type": "code",
   "execution_count": 6,
   "id": "31c257fe",
   "metadata": {},
   "outputs": [],
   "source": [
    "file = \"userData.xlsx\"\n",
    "wb_obj = openpyxl.load_workbook(file)\n",
    "sheet_obj = wb_obj.active\n",
    "m_row = sheet_obj.max_row"
   ]
  },
  {
   "cell_type": "code",
   "execution_count": 19,
   "id": "afe4cc5a",
   "metadata": {},
   "outputs": [],
   "source": [
    "def likeThePost():\n",
    "    WebDriverWait(driver, 10).until(\n",
    "        EC.presence_of_element_located((By.XPATH, \"//body//div//div[contains(@class,'_aa-i')]//div//div//div[1]//div[1]//a[1]\"))).click()\n",
    "    WebDriverWait(driver, 10).until(\n",
    "        EC.presence_of_element_located((By.XPATH,\"(//*[name()='svg'][@aria-label='Like'])[2]\"))).click()\n",
    "    nextbutton =\"//div[contains(@class,'_aaqg _aaqh')]//span\"\n",
    "    for i in range(0,4):\n",
    "        time.sleep(2)\n",
    "        try:\n",
    "            WebDriverWait(driver, 10).until(\n",
    "        EC.presence_of_element_located((By.XPATH,\"(//*[name()='svg'][@aria-label='Like'])[2]\"))).click()\n",
    "            print(\"Liked \")\n",
    "        except Exception:\n",
    "            pass\n",
    "        try:\n",
    "            WebDriverWait(driver, 10).until(EC.presence_of_element_located((By.XPATH, nextbutton))).click()\n",
    "        except Exception:\n",
    "            break\n",
    "            pass"
   ]
  },
  {
   "cell_type": "code",
   "execution_count": 20,
   "id": "e1f7afa8",
   "metadata": {},
   "outputs": [
    {
     "name": "stdout",
     "output_type": "stream",
     "text": [
      "Liked \n",
      "Liked \n",
      "Liked \n",
      "Liked \n",
      "Liked \n",
      "Liked \n",
      "Liked \n",
      "Liked \n",
      "Liked \n",
      "Liked \n",
      "Liked \n",
      "Liked \n",
      "Liked \n",
      "Liked \n",
      "Liked \n",
      "Liked \n",
      "Liked \n",
      "Liked \n",
      "Liked \n",
      "Liked \n",
      "Liked \n",
      "Liked \n",
      "Liked \n",
      "Liked \n",
      "Liked \n",
      "Liked \n",
      "Liked \n"
     ]
    }
   ],
   "source": [
    "likeThePost()"
   ]
  },
  {
   "cell_type": "code",
   "execution_count": 56,
   "id": "3bcae116",
   "metadata": {},
   "outputs": [],
   "source": [
    "def storyViwe():\n",
    "    WebDriverWait(driver, 10).until(EC.presence_of_element_located((By.CLASS_NAME, \"OE3OK\"))).click()"
   ]
  },
  {
   "cell_type": "code",
   "execution_count": 52,
   "id": "e735f0e7",
   "metadata": {},
   "outputs": [],
   "source": [
    "def activityFollowUnfollow():\n",
    "    checkFollowUnfollow=0\n",
    "    for i in range(2, m_row + 1):\n",
    "        cell_obj = sheet_obj.cell(row=i, column=1)\n",
    "        Insta_Id = cell_obj.value\n",
    "        \n",
    "        Insta_Id_Urls = \"https://www.instagram.com/\"+Insta_Id\n",
    "        print(str(i) + \":\" + Insta_Id_Urls)\n",
    "        time.sleep(random.randrange(4, 5))\n",
    "        driver.get(Insta_Id_Urls)\n",
    "        if(checkFollowUnfollow):\n",
    "            print(checkFollowUnfollow,\"true\")\n",
    "            try:\n",
    "                time.sleep(random.randrange(2, 7))\n",
    "                WebDriverWait(driver, 10).until(EC.presence_of_element_located((By.XPATH, \"//header//div[contains(text(),'Follow')]\"))).click()\n",
    "            except Exception:\n",
    "                print(\"already following\")\n",
    "        else:\n",
    "            try:\n",
    "                time.sleep(random.randrange(1, 7))\n",
    "                WebDriverWait(driver, 10).until(EC.presence_of_element_located((By.XPATH, \"//*[@id='react-root']/div/div/section/main/div/header/section/div[1]/div[1]/div/div[2]/div//span//span[1]//button[1]\"))).click()\n",
    "                try:\n",
    "                    driver.switch_to_active_element()\n",
    "                    time.sleep(random.randrange(3, 7))\n",
    "                    WebDriverWait(driver, 10).until(EC.presence_of_element_located((By.XPATH,\"//button[normalize-space()='Unfollow']\"))).click()\n",
    "                    time.sleep(random.randrange(3, 7))    \n",
    "                except Exception:\n",
    "                    print(\"not follow\")\n",
    "            except Exception:\n",
    "                print(\"not follow skip\")"
   ]
  },
  {
   "cell_type": "code",
   "execution_count": 39,
   "id": "b1befe20",
   "metadata": {},
   "outputs": [],
   "source": [
    "\n",
    "WebDriverWait(driver, 10).until(EC.presence_of_element_located((By.XPATH, \"//body//div[@id='react-root']//span//span[1]//button[1]\"))).click()\n",
    "time.sleep(3)\n",
    "driver.switch_to_active_element()\n",
    "click_unfollow=\n",
    "# driver.execute_script(\"arguments[0].click();\", click_unfollow)\n",
    "WebDriverWait(driver, 10).until(EC.presence_of_element_located((By.XPATH, \"//button[normalize-space()='Unfollow']\"))).click()\n",
    "# WebDriverWait(driver, 10).until(EC.presence_of_element_located((By.XPATH,\"\")).click()"
   ]
  },
  {
   "cell_type": "code",
   "execution_count": 53,
   "id": "6f9a3e6f",
   "metadata": {
    "scrolled": true
   },
   "outputs": [
    {
     "name": "stdout",
     "output_type": "stream",
     "text": [
      "2:https://www.instagram.com/shajimanikuttan20\n",
      "not follow skip\n",
      "3:https://www.instagram.com/raj_gupta_jiii\n",
      "not follow skip\n",
      "4:https://www.instagram.com/shudhanshukumar51\n",
      "not follow\n",
      "5:https://www.instagram.com/mr.akshay_4747_\n",
      "not follow skip\n",
      "6:https://www.instagram.com/moreswar_karlekar\n",
      "not follow skip\n",
      "7:https://www.instagram.com/durgesh_bhati_official_100k\n",
      "not follow\n",
      "8:https://www.instagram.com/mahi_saini_190\n",
      "not follow\n",
      "9:https://www.instagram.com/the_sharma_777\n",
      "10:https://www.instagram.com/its_simmi_45\n"
     ]
    }
   ],
   "source": [
    "activityFollowUnfollow()"
   ]
  },
  {
   "cell_type": "code",
   "execution_count": 58,
   "id": "d27e8e2c",
   "metadata": {},
   "outputs": [],
   "source": [
    "storyViwe()"
   ]
  },
  {
   "cell_type": "code",
   "execution_count": null,
   "id": "1eaf6d6c",
   "metadata": {},
   "outputs": [],
   "source": [
    "\"https://instagram.fdel27-5.fna.fbcdn.net/v/t51.2885-19/283520468_326394626149186_6965340779592714095_n.jpg?stp=dst-jpg_s320x320&_nc_ht=instagram.fdel27-5.fna.fbcdn.net&_nc_cat=110&_nc_ohc=4nl70G-PAVYAX9VLe6W&edm=ABfd0MgBAAAA&ccb=7-5&oh=00_AT-SZb2OALuFZBJX9SNyC8hZbpW2KVph9djfgrmO15LM9Q&oe=629A3D5D&_nc_sid=7bff83\"\n",
    "wget.download(image, save_as)"
   ]
  }
 ],
 "metadata": {
  "kernelspec": {
   "display_name": "Python 3 (ipykernel)",
   "language": "python",
   "name": "python3"
  },
  "language_info": {
   "codemirror_mode": {
    "name": "ipython",
    "version": 3
   },
   "file_extension": ".py",
   "mimetype": "text/x-python",
   "name": "python",
   "nbconvert_exporter": "python",
   "pygments_lexer": "ipython3",
   "version": "3.9.9"
  }
 },
 "nbformat": 4,
 "nbformat_minor": 5
}
