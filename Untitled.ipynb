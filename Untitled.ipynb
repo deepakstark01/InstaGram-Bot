{
 "cells": [
  {
   "cell_type": "code",
   "execution_count": 1,
   "id": "d6c228ef",
   "metadata": {},
   "outputs": [],
   "source": [
    "import sys\n",
    "import requests\n",
    "import xlsxwriter\n",
    "import time\n",
    "import wget\n",
    "import random\n",
    "import selenium\n",
    "from selenium import webdriver\n",
    "from pynput.keyboard import Controller, Key\n",
    "from selenium.webdriver.common.keys import Keys\n",
    "import openpyxl\n",
    "from selenium.webdriver.common.by import By\n",
    "from selenium.webdriver.support.ui import WebDriverWait\n",
    "from selenium.webdriver.support import expected_conditions as EC\n",
    "from bs4 import BeautifulSoup"
   ]
  },
  {
   "cell_type": "code",
   "execution_count": 2,
   "id": "0120adfc",
   "metadata": {},
   "outputs": [],
   "source": [
    "chrome_options = webdriver.ChromeOptions()\n",
    "chrome_options.add_argument(r'--user-data-dir=C:\\Users\\Deepak\\AppData\\Local\\Google\\Chrome\\User Data')\n",
    "driver = webdriver.Chrome(executable_path=\"C:\\chromedriver.exe\", options=chrome_options)\n"
   ]
  },
  {
   "cell_type": "code",
   "execution_count": 3,
   "id": "6b5f23c1",
   "metadata": {},
   "outputs": [],
   "source": [
    "url=\"https://www.instagram.com/\"\n",
    "driver.get(url)"
   ]
  },
  {
   "cell_type": "code",
   "execution_count": 22,
   "id": "d4d6e7f0",
   "metadata": {},
   "outputs": [],
   "source": [
    "html = driver.page_source\n",
    "soup2 = BeautifulSoup(html, \"html.parser\")\n",
    "userdataPic=soup2.find('span',{\"class\":\"_aa8h\"})\n",
    "imglink=userdataPic.find('img',{\"draggable\":\"false\"})[\"src\"]"
   ]
  },
  {
   "cell_type": "code",
   "execution_count": 23,
   "id": "59ff2740",
   "metadata": {},
   "outputs": [
    {
     "name": "stdout",
     "output_type": "stream",
     "text": [
      "https://instagram.fdel27-2.fna.fbcdn.net/v/t51.2885-19/274194107_499340831751005_1975811035683949702_n.jpg?stp=dst-jpg_s320x320&_nc_ht=instagram.fdel27-2.fna.fbcdn.net&_nc_cat=105&_nc_ohc=MWyQ8ElfMH0AX_jn87r&edm=AOQ1c0wBAAAA&ccb=7-5&oh=00_AT86ZRbcL0m2Md0hSJdLRNn84PVdJLXaZYXq2I4GtIg6tA&oe=62A35B7E&_nc_sid=8fd12b\n",
      "100% [..............................................................................] 15201 / 15201"
     ]
    },
    {
     "data": {
      "text/plain": [
       "'instaIemag1.jpg'"
      ]
     },
     "execution_count": 23,
     "metadata": {},
     "output_type": "execute_result"
    }
   ],
   "source": [
    "print(imglink)\n",
    "save_as=\"instaIemag1.jpg\"\n",
    "wget.download(imglink,save_as)"
   ]
  },
  {
   "cell_type": "code",
   "execution_count": null,
   "id": "254c1b9b",
   "metadata": {},
   "outputs": [],
   "source": []
  }
 ],
 "metadata": {
  "kernelspec": {
   "display_name": "Python 3 (ipykernel)",
   "language": "python",
   "name": "python3"
  },
  "language_info": {
   "codemirror_mode": {
    "name": "ipython",
    "version": 3
   },
   "file_extension": ".py",
   "mimetype": "text/x-python",
   "name": "python",
   "nbconvert_exporter": "python",
   "pygments_lexer": "ipython3",
   "version": "3.9.9"
  }
 },
 "nbformat": 4,
 "nbformat_minor": 5
}
